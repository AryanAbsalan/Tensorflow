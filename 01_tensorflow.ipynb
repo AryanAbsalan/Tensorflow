{
 "cells": [
  {
   "cell_type": "code",
   "execution_count": 1,
   "metadata": {},
   "outputs": [
    {
     "name": "stdout",
     "output_type": "stream",
     "text": [
      "tf.Tensor(5, shape=(), dtype=int32)\n",
      "tf.Tensor(10, shape=(), dtype=int32)\n"
     ]
    }
   ],
   "source": [
    "import tensorflow as tf\n",
    "\n",
    "x1 = tf.constant(5)  # Definition of the first constant: 5\n",
    "x2 = tf.constant(10)  # Definition of the second constant: 10\n",
    "\n",
    "print(x1)  # Display the first constant\n",
    "print(x2)  # Display the second constant"
   ]
  },
  {
   "cell_type": "markdown",
   "metadata": {},
   "source": [
    "\n",
    "\n",
    "| NumPy Operation           | TensorFlow Operation   |\n",
    "|---------------------------|------------------------|\n",
    "| `np.add` or `+`           | `tf.add` or `+`        |\n",
    "| `np.subtract` or `-`      | `tf.subtract` or `-`   |\n",
    "| `np.matmul`               | `tf.matmul`            |\n",
    "| `np.transpose`            | `tf.transpose`         |\n",
    "| `np.linalg.inv`           | `tf.linalg.inv`        |\n",
    "| `np.cos`                  | `tf.cos`               |\n",
    "| `np.sin`                  | `tf.sin`               |\n",
    "| `np.tan`                  | `tf.tan`               |\n",
    "| `np.log`                  | `tf.log`               |\n",
    "| `np.exp`                  | `tf.exp`               |\n",
    "| `np.reshape`              | `tf.reshape`           |\n",
    "| `np.concatenate`          | `tf.concat`            |\n",
    "| `np.expand_dims`          | `tf.expand_dims`       |\n",
    "| `np.arange`               | `tf.range`             |\n"
   ]
  },
  {
   "cell_type": "code",
   "execution_count": 10,
   "metadata": {},
   "outputs": [
    {
     "name": "stdout",
     "output_type": "stream",
     "text": [
      "tf.Tensor(15, shape=(), dtype=int32)\n",
      "15\n"
     ]
    }
   ],
   "source": [
    "result = tf.add(x1, x2)  # Call the add function to add x1 and x2\n",
    "# Equivalent solution :\n",
    "# result = x1 + x2\n",
    "\n",
    "print(result)  # Display the result\n",
    "print(result.numpy())"
   ]
  },
  {
   "cell_type": "code",
   "execution_count": null,
   "metadata": {},
   "outputs": [],
   "source": [
    "import tensorflow as tf\n",
    "import numpy as np\n",
    "\n",
    "# Creation of a 5x10 matrix filled with zeros\n",
    "X = tf.zeros(shape = (5, 10))\n",
    "# Creation of a 3 dimensional matrix 3x10x10 filled with ones\n",
    "X = np.ones(shape = (3, 10, 10))"
   ]
  },
  {
   "cell_type": "code",
   "execution_count": null,
   "metadata": {},
   "outputs": [],
   "source": [
    "X = tf.constant([2*i for i in range(10)])    # 0, 2, 4, 6, ..., 18\n",
    "# Creation of a tensor from an array.\n",
    "X = np.array([[1, 3, 3],\n",
    "             [3, 3, 1],\n",
    "             [1, 2, 0]])\n",
    "X = tf.constant(X)"
   ]
  },
  {
   "cell_type": "markdown",
   "metadata": {},
   "source": [
    "| NumPy Function       | TensorFlow Equivalent   |\n",
    "|----------------------|-------------------------|\n",
    "| `np.zeros`           | `tf.zeros`              |\n",
    "| `np.ones`            | `tf.ones`               |\n",
    "| `np.eye`             | `tf.eye`                |\n",
    "| `np.transpose`       | `tf.transpose`          |\n",
    "| `np.random.normal`   | `tf.random.normal`      |\n",
    "| `np.random.uniform`  | `tf.random.uniform`     |\n"
   ]
  },
  {
   "cell_type": "code",
   "execution_count": 18,
   "metadata": {},
   "outputs": [
    {
     "name": "stdout",
     "output_type": "stream",
     "text": [
      "Min of X : 2.3841858e-06\n",
      "Max of X : 0.99996984\n",
      "tf.Tensor(\n",
      "[[0.654191   0.05673862]\n",
      " [0.34173644 0.6819817 ]\n",
      " [0.5045128  0.64118016]\n",
      " ...\n",
      " [0.15361953 0.10590267]\n",
      " [0.843711   0.12636685]\n",
      " [0.16032565 0.88329625]], shape=(10000, 2), dtype=float32)\n"
     ]
    }
   ],
   "source": [
    "X = tf.random.uniform([10000, 2])\n",
    "print('Min of X :', tf.reduce_min(X).numpy())\n",
    "print('Max of X :', tf.reduce_max(X).numpy())\n",
    "print(X)"
   ]
  },
  {
   "cell_type": "code",
   "execution_count": 19,
   "metadata": {},
   "outputs": [
    {
     "name": "stdout",
     "output_type": "stream",
     "text": [
      "tf.Tensor(0.0, shape=(), dtype=float32)\n"
     ]
    }
   ],
   "source": [
    "import tensorflow as tf\n",
    "X = tf.zeros(shape = (10, 10))\n",
    "## display of the element in the index (4, 3)\n",
    "print(X[4, 3])"
   ]
  },
  {
   "cell_type": "code",
   "execution_count": 20,
   "metadata": {},
   "outputs": [
    {
     "name": "stdout",
     "output_type": "stream",
     "text": [
      "tf.Tensor(\n",
      "[[0. 0. 0.]\n",
      " [0. 0. 0.]\n",
      " [0. 0. 0.]], shape=(3, 3), dtype=float32)\n"
     ]
    }
   ],
   "source": [
    "X = tf.zeros(shape = (4, 5))\n",
    "## displays a sub-matrix of X\n",
    "print(X[1:4, 2:5])"
   ]
  }
 ],
 "metadata": {
  "kernelspec": {
   "display_name": "mlenv",
   "language": "python",
   "name": "python3"
  },
  "language_info": {
   "codemirror_mode": {
    "name": "ipython",
    "version": 3
   },
   "file_extension": ".py",
   "mimetype": "text/x-python",
   "name": "python",
   "nbconvert_exporter": "python",
   "pygments_lexer": "ipython3",
   "version": "3.12.4"
  }
 },
 "nbformat": 4,
 "nbformat_minor": 2
}
