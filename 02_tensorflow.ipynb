{
 "cells": [
  {
   "cell_type": "code",
   "execution_count": null,
   "metadata": {},
   "outputs": [],
   "source": [
    "import tensorflow as tf\n",
    "\n",
    "# Instantiation of a Variable with an initial value of 3.0 (floating type)\n",
    "x = tf.Variable(initial_value=3.0)\n",
    "\n",
    "# Definition of the function f\n",
    "\n",
    "\n",
    "def f(x):\n",
    "    return x*x - 2*x + 3\n",
    "\n",
    "\n",
    "# Evaluation of f(3)\n",
    "f(x).numpy()"
   ]
  },
  {
   "cell_type": "code",
   "execution_count": null,
   "metadata": {},
   "outputs": [],
   "source": [
    "x.assign(4.0)\n",
    "f(x).numpy()"
   ]
  },
  {
   "cell_type": "code",
   "execution_count": null,
   "metadata": {},
   "outputs": [],
   "source": [
    "x.assign(4.0)\n",
    "\n",
    "with tf.GradientTape() as tape:\n",
    "    function = f(x)\n",
    "\n",
    "# Computation of the gradient of f at x=4\n",
    "grad = tape.gradient(function, x)\n",
    "print(grad.numpy())\n"
   ]
  },
  {
   "cell_type": "code",
   "execution_count": null,
   "metadata": {},
   "outputs": [],
   "source": [
    "learning_rate = 0.1\n",
    "nb_iteration = 100\n",
    "x.assign(4.0)\n",
    "\n",
    "for i in range(nb_iteration):\n",
    "    with tf.GradientTape() as tape:\n",
    "        function = f(x)\n",
    "\n",
    "    # Computation of the gradient of f at x=4\n",
    "    grad = tape.gradient(function, x)\n",
    "    x.assign(x - learning_rate*grad)\n",
    "\n",
    "print('Value of the gradient at x={} : {}'.format(x.numpy(), grad.numpy()))"
   ]
  },
  {
   "cell_type": "code",
   "execution_count": null,
   "metadata": {},
   "outputs": [],
   "source": [
    "# SGD optimizer corresponds to the gradient descent\n",
    "# Define a SGD optimizer under the name optimizer with a learning_rate of 0.1\n",
    "optimizer = tf.keras.optimizers.SGD(learning_rate=0.1)"
   ]
  },
  {
   "cell_type": "code",
   "execution_count": null,
   "metadata": {},
   "outputs": [],
   "source": [
    "#  Find the minimum of the function f with the optimization method SGD\n",
    "nb_iteration = 1000\n",
    "x = tf.Variable(initial_value=3.0)\n",
    "optimizer = tf.keras.optimizers.SGD(learning_rate=0.1)\n",
    "\n",
    "for i in range(nb_iteration):\n",
    "    with tf.GradientTape() as tape:\n",
    "        function = f(x)\n",
    "    # Gradient calculation\n",
    "    grad = tape.gradient(function, x)\n",
    "    optimizer.apply_gradients(zip([grad], [x]))\n",
    "\n",
    "x.numpy()"
   ]
  },
  {
   "cell_type": "markdown",
   "metadata": {},
   "source": []
  }
 ],
 "metadata": {
  "kernelspec": {
   "display_name": "mlenv",
   "language": "python",
   "name": "python3"
  },
  "language_info": {
   "name": "python",
   "version": "3.12.4"
  }
 },
 "nbformat": 4,
 "nbformat_minor": 2
}
